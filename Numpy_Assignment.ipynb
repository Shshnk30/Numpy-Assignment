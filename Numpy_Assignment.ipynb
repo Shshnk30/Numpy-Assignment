{
  "nbformat": 4,
  "nbformat_minor": 0,
  "metadata": {
    "colab": {
      "provenance": []
    },
    "kernelspec": {
      "name": "python3",
      "display_name": "Python 3"
    },
    "language_info": {
      "name": "python"
    }
  },
  "cells": [
    {
      "cell_type": "code",
      "execution_count": 1,
      "metadata": {
        "colab": {
          "base_uri": "https://localhost:8080/"
        },
        "id": "3DTsSjoy4S4p",
        "outputId": "419f1119-454a-438c-8486-28212ae9d5bc"
      },
      "outputs": [
        {
          "output_type": "stream",
          "name": "stdout",
          "text": [
            "Original Array:\n",
            " [[40 43 82]\n",
            " [85 10 42]\n",
            " [33 63 44]]\n",
            "Transposed Array:\n",
            " [[40 85 33]\n",
            " [43 10 63]\n",
            " [82 42 44]]\n"
          ]
        }
      ],
      "source": [
        "#Answer-1\n",
        "\n",
        "import numpy as np\n",
        "\n",
        "# Create a 3x3 NumPy array with random integers between 1 and 100\n",
        "array_3x3 = np.random.randint(1, 101, size=(3, 3))\n",
        "\n",
        "# Interchange its rows and columns (transpose the array)\n",
        "transposed_array = array_3x3.T\n",
        "\n",
        "# Display the original and transposed arrays\n",
        "print(\"Original Array:\\n\", array_3x3)\n",
        "print(\"Transposed Array:\\n\", transposed_array)\n"
      ]
    },
    {
      "cell_type": "code",
      "source": [
        "#Answer-2\n",
        "\n",
        "import numpy as np\n",
        "\n",
        "# Generate a 1D NumPy array with 10 elements\n",
        "array_1d = np.arange(10)\n",
        "\n",
        "# Reshape it into a 2x5 array\n",
        "array_2x5 = array_1d.reshape(2, 5)\n",
        "\n",
        "# Reshape it into a 5x2 array\n",
        "array_5x2 = array_1d.reshape(5, 2)\n",
        "\n",
        "# Display the arrays\n",
        "print(\"1D Array:\\n\", array_1d)\n",
        "print(\"Reshaped to 2x5 Array:\\n\", array_2x5)\n",
        "print(\"Reshaped to 5x2 Array:\\n\", array_5x2)\n"
      ],
      "metadata": {
        "colab": {
          "base_uri": "https://localhost:8080/"
        },
        "id": "LIjMm5XK4nBn",
        "outputId": "2a3ae2cb-4756-490c-ccd4-41f92b2b24f3"
      },
      "execution_count": 2,
      "outputs": [
        {
          "output_type": "stream",
          "name": "stdout",
          "text": [
            "1D Array:\n",
            " [0 1 2 3 4 5 6 7 8 9]\n",
            "Reshaped to 2x5 Array:\n",
            " [[0 1 2 3 4]\n",
            " [5 6 7 8 9]]\n",
            "Reshaped to 5x2 Array:\n",
            " [[0 1]\n",
            " [2 3]\n",
            " [4 5]\n",
            " [6 7]\n",
            " [8 9]]\n"
          ]
        }
      ]
    },
    {
      "cell_type": "code",
      "source": [
        "#Answer-3\n",
        "\n",
        "import numpy as np\n",
        "\n",
        "# Create a 4x4 NumPy array with random float values\n",
        "array_4x4 = np.random.rand(4, 4)\n",
        "\n",
        "# Add a border of zeros around the 4x4 array\n",
        "array_with_border = np.pad(array_4x4, pad_width=1, mode='constant', constant_values=0)\n",
        "\n",
        "# Display the original and the new array\n",
        "print(\"Original 4x4 Array:\\n\", array_4x4)\n",
        "print(\"6x6 Array with Border of Zeros:\\n\", array_with_border)\n",
        "\n",
        "\n"
      ],
      "metadata": {
        "colab": {
          "base_uri": "https://localhost:8080/"
        },
        "id": "5Gp9Oub34z1j",
        "outputId": "c8b3a080-d4ca-4fd5-ec39-af40d12ace67"
      },
      "execution_count": 3,
      "outputs": [
        {
          "output_type": "stream",
          "name": "stdout",
          "text": [
            "Original 4x4 Array:\n",
            " [[0.23995783 0.9121459  0.23194613 0.45006806]\n",
            " [0.99406648 0.09120055 0.78928911 0.1637252 ]\n",
            " [0.63114244 0.27793576 0.65494061 0.83453168]\n",
            " [0.23355232 0.77517536 0.45584204 0.47482344]]\n",
            "6x6 Array with Border of Zeros:\n",
            " [[0.         0.         0.         0.         0.         0.        ]\n",
            " [0.         0.23995783 0.9121459  0.23194613 0.45006806 0.        ]\n",
            " [0.         0.99406648 0.09120055 0.78928911 0.1637252  0.        ]\n",
            " [0.         0.63114244 0.27793576 0.65494061 0.83453168 0.        ]\n",
            " [0.         0.23355232 0.77517536 0.45584204 0.47482344 0.        ]\n",
            " [0.         0.         0.         0.         0.         0.        ]]\n"
          ]
        }
      ]
    },
    {
      "cell_type": "code",
      "source": [
        "#Answer-4\n",
        "\n",
        "import numpy as np\n",
        "\n",
        "# Create an array of integers from 10 to 60 with a step of 5\n",
        "array_integers = np.arange(10, 61, 5)\n",
        "\n",
        "# Display the resulting array\n",
        "print(\"Array of integers from 10 to 60 with a step of 5:\\n\", array_integers)\n"
      ],
      "metadata": {
        "colab": {
          "base_uri": "https://localhost:8080/"
        },
        "id": "tXCNlyQ74-lh",
        "outputId": "4dede7ae-7ae6-46e5-925a-c38496613cf8"
      },
      "execution_count": 4,
      "outputs": [
        {
          "output_type": "stream",
          "name": "stdout",
          "text": [
            "Array of integers from 10 to 60 with a step of 5:\n",
            " [10 15 20 25 30 35 40 45 50 55 60]\n"
          ]
        }
      ]
    },
    {
      "cell_type": "code",
      "source": [
        "#Answer-5\n",
        "\n",
        "import numpy as np\n",
        "\n",
        "# Create a NumPy array of strings\n",
        "string_array = np.array(['python', 'numpy', 'pandas'])\n",
        "\n",
        "# Apply different case transformations\n",
        "uppercase_array = np.char.upper(string_array)     # Uppercase\n",
        "lowercase_array = np.char.lower(string_array)     # Lowercase\n",
        "titlecase_array = np.char.title(string_array)     # Title case\n",
        "\n",
        "# Display the transformed arrays\n",
        "print(\"Original Array:\\n\", string_array)\n",
        "print(\"Uppercase:\\n\", uppercase_array)\n",
        "print(\"Lowercase:\\n\", lowercase_array)\n",
        "print(\"Title Case:\\n\", titlecase_array)\n"
      ],
      "metadata": {
        "colab": {
          "base_uri": "https://localhost:8080/"
        },
        "id": "6SESFMjh5MF9",
        "outputId": "a4891c7d-6a8d-4dcd-af1a-a88ce6e52ff2"
      },
      "execution_count": 5,
      "outputs": [
        {
          "output_type": "stream",
          "name": "stdout",
          "text": [
            "Original Array:\n",
            " ['python' 'numpy' 'pandas']\n",
            "Uppercase:\n",
            " ['PYTHON' 'NUMPY' 'PANDAS']\n",
            "Lowercase:\n",
            " ['python' 'numpy' 'pandas']\n",
            "Title Case:\n",
            " ['Python' 'Numpy' 'Pandas']\n"
          ]
        }
      ]
    },
    {
      "cell_type": "code",
      "source": [
        "#Answer-6\n",
        "\n",
        "import numpy as np\n",
        "\n",
        "# Create a NumPy array of words\n",
        "words_array = np.array(['python', 'numpy', 'pandas'])\n",
        "\n",
        "# Insert a space between each character of every word\n",
        "spaced_words_array = np.char.join(' ', words_array)\n",
        "\n",
        "# Display the original and the modified arrays\n",
        "print(\"Original Array:\\n\", words_array)\n",
        "print(\"Array with Spaces Between Characters:\\n\", spaced_words_array)\n",
        "\n"
      ],
      "metadata": {
        "colab": {
          "base_uri": "https://localhost:8080/"
        },
        "id": "-kdoM2GJ5jPS",
        "outputId": "b5609513-6768-44be-ba7c-fa910d2f696f"
      },
      "execution_count": 6,
      "outputs": [
        {
          "output_type": "stream",
          "name": "stdout",
          "text": [
            "Original Array:\n",
            " ['python' 'numpy' 'pandas']\n",
            "Array with Spaces Between Characters:\n",
            " ['p y t h o n' 'n u m p y' 'p a n d a s']\n"
          ]
        }
      ]
    },
    {
      "cell_type": "code",
      "source": [
        "#Answer-7\n",
        "\n",
        "import numpy as np\n",
        "\n",
        "# Create two 2D NumPy arrays\n",
        "array1 = np.array([[10, 20, 30], [40, 50, 60]])\n",
        "array2 = np.array([[1, 2, 3], [4, 5, 6]])\n",
        "\n",
        "# Perform element-wise operations\n",
        "addition = np.add(array1, array2)        # Element-wise addition\n",
        "subtraction = np.subtract(array1, array2) # Element-wise subtraction\n",
        "multiplication = np.multiply(array1, array2) # Element-wise multiplication\n",
        "division = np.divide(array1, array2)     # Element-wise division\n",
        "\n",
        "# Display the results\n",
        "print(\"Array 1:\\n\", array1)\n",
        "print(\"Array 2:\\n\", array2)\n",
        "print(\"\\nElement-wise Addition:\\n\", addition)\n",
        "print(\"Element-wise Subtraction:\\n\", subtraction)\n",
        "print(\"Element-wise Multiplication:\\n\", multiplication)\n",
        "print(\"Element-wise Division:\\n\", division)\n"
      ],
      "metadata": {
        "colab": {
          "base_uri": "https://localhost:8080/"
        },
        "id": "XDfYwyQf5yXu",
        "outputId": "2af962e0-d36a-493a-ebbd-effc7e68fb6a"
      },
      "execution_count": 7,
      "outputs": [
        {
          "output_type": "stream",
          "name": "stdout",
          "text": [
            "Array 1:\n",
            " [[10 20 30]\n",
            " [40 50 60]]\n",
            "Array 2:\n",
            " [[1 2 3]\n",
            " [4 5 6]]\n",
            "\n",
            "Element-wise Addition:\n",
            " [[11 22 33]\n",
            " [44 55 66]]\n",
            "Element-wise Subtraction:\n",
            " [[ 9 18 27]\n",
            " [36 45 54]]\n",
            "Element-wise Multiplication:\n",
            " [[ 10  40  90]\n",
            " [160 250 360]]\n",
            "Element-wise Division:\n",
            " [[10. 10. 10.]\n",
            " [10. 10. 10.]]\n"
          ]
        }
      ]
    },
    {
      "cell_type": "code",
      "source": [
        "#Answer-8\n",
        "\n",
        "import numpy as np\n",
        "\n",
        "# Create a 5x5 identity matrix\n",
        "identity_matrix = np.eye(5)\n",
        "\n",
        "# Extract the diagonal elements\n",
        "diagonal_elements = np.diag(identity_matrix)\n",
        "\n",
        "# Display the identity matrix and its diagonal elements\n",
        "print(\"5x5 Identity Matrix:\\n\", identity_matrix)\n",
        "print(\"Diagonal Elements:\\n\", diagonal_elements)\n"
      ],
      "metadata": {
        "colab": {
          "base_uri": "https://localhost:8080/"
        },
        "id": "n1nGSZdX5-Zq",
        "outputId": "5aec2b77-f41d-45b5-d6f6-fe3573b87a9f"
      },
      "execution_count": 8,
      "outputs": [
        {
          "output_type": "stream",
          "name": "stdout",
          "text": [
            "5x5 Identity Matrix:\n",
            " [[1. 0. 0. 0. 0.]\n",
            " [0. 1. 0. 0. 0.]\n",
            " [0. 0. 1. 0. 0.]\n",
            " [0. 0. 0. 1. 0.]\n",
            " [0. 0. 0. 0. 1.]]\n",
            "Diagonal Elements:\n",
            " [1. 1. 1. 1. 1.]\n"
          ]
        }
      ]
    },
    {
      "cell_type": "code",
      "source": [
        "#Answer-9\n",
        "\n",
        "import numpy as np\n",
        "\n",
        "# Function to check if a number is prime\n",
        "def is_prime(n):\n",
        "    if n < 2:\n",
        "        return False\n",
        "    for i in range(2, int(np.sqrt(n)) + 1):\n",
        "        if n % i == 0:\n",
        "            return False\n",
        "    return True\n",
        "\n",
        "# Generate a NumPy array of 100 random integers between 0 and 1000\n",
        "random_array = np.random.randint(0, 1001, size=100)\n",
        "\n",
        "# Find all prime numbers in the array\n",
        "prime_numbers = np.array([num for num in random_array if is_prime(num)])\n",
        "\n",
        "# Display the random array and the prime numbers\n",
        "print(\"Random Array:\\n\", random_array)\n",
        "print(\"Prime Numbers in the Array:\\n\", prime_numbers)\n",
        "\n",
        "\n"
      ],
      "metadata": {
        "colab": {
          "base_uri": "https://localhost:8080/"
        },
        "id": "8oKh7ekW6LSR",
        "outputId": "abe39ab8-9059-40be-c340-65c1eb562139"
      },
      "execution_count": 9,
      "outputs": [
        {
          "output_type": "stream",
          "name": "stdout",
          "text": [
            "Random Array:\n",
            " [400 201 479 506 574  52 252 260 675 975 405   7 912 361 467 152 230 225\n",
            " 288 419   5 212 113 206 901 564 732 404 623 806 406 367  19 647  36 218\n",
            " 842 118 935 415 598  33 179 694 783 679 821 641 363 450 830 217 983 552\n",
            "  61 455 709 858 265 283 733 318 940 483 886 832 487 380 149 327 138 372\n",
            " 583  32 731 920 799 487 719 406 866 480 116  58 304 255 734 118 579 523\n",
            " 815 184 381 315 575 331 375 160 303 739]\n",
            "Prime Numbers in the Array:\n",
            " [479   7 467 419   5 113 367  19 647 179 821 641 983  61 709 283 733 487\n",
            " 149 487 719 523 331 739]\n"
          ]
        }
      ]
    },
    {
      "cell_type": "code",
      "source": [
        "#Answer-10\n",
        "\n",
        "import numpy as np\n",
        "\n",
        "# Create a NumPy array representing daily temperatures for a month (30 days)\n",
        "daily_temperatures = np.random.randint(15, 35, size=30)  # Temperatures between 15 and 35 degrees\n",
        "\n",
        "# Reshape the array to have 4 weeks (7 days per week, and last week with 2 days in this case)\n",
        "weeks = np.split(daily_temperatures[:28], 4)  # First 4 weeks with 7 days\n",
        "last_week = daily_temperatures[28:]  # Last week (remaining 2 days)\n",
        "\n",
        "# Calculate weekly averages\n",
        "weekly_averages = [np.mean(week) for week in weeks] + [np.mean(last_week)]\n",
        "\n",
        "# Display the daily temperatures and weekly averages\n",
        "print(\"Daily Temperatures for the Month:\\n\", daily_temperatures)\n",
        "print(\"\\nWeekly Averages:\")\n",
        "for i, avg in enumerate(weekly_averages, 1):\n",
        "    print(f\"Week {i}: {avg:.2f}\")\n",
        "import numpy as np\n",
        "\n",
        "# Create a NumPy array representing daily temperatures for a month (30 days)\n",
        "daily_temperatures = np.random.randint(15, 35, size=30)  # Temperatures between 15 and 35 degrees\n",
        "\n",
        "# Reshape the array to have 4 weeks (7 days per week, and last week with 2 days in this case)\n",
        "weeks = np.split(daily_temperatures[:28], 4)  # First 4 weeks with 7 days\n",
        "last_week = daily_temperatures[28:]  # Last week (remaining 2 days)\n",
        "\n",
        "# Calculate weekly averages\n",
        "weekly_averages = [np.mean(week) for week in weeks] + [np.mean(last_week)]\n",
        "\n",
        "# Display the daily temperatures and weekly averages\n",
        "print(\"Daily Temperatures for the Month:\\n\", daily_temperatures)\n",
        "print(\"\\nWeekly Averages:\")\n",
        "for i, avg in enumerate(weekly_averages, 1):\n",
        "    print(f\"Week {i}: {avg:.2f}\")\n"
      ],
      "metadata": {
        "colab": {
          "base_uri": "https://localhost:8080/"
        },
        "id": "LmfJax116a5n",
        "outputId": "fc27b28d-aeae-4a4e-8b3c-6dabebdc88fc"
      },
      "execution_count": 10,
      "outputs": [
        {
          "output_type": "stream",
          "name": "stdout",
          "text": [
            "Daily Temperatures for the Month:\n",
            " [21 21 20 28 34 16 30 27 18 16 34 19 15 31 24 26 27 28 22 34 24 18 22 29\n",
            " 18 19 27 34 20 29]\n",
            "\n",
            "Weekly Averages:\n",
            "Week 1: 24.29\n",
            "Week 2: 22.86\n",
            "Week 3: 26.43\n",
            "Week 4: 23.86\n",
            "Week 5: 24.50\n",
            "Daily Temperatures for the Month:\n",
            " [27 27 34 20 20 34 25 19 30 26 29 23 26 30 19 34 16 23 34 21 27 18 16 30\n",
            " 34 25 32 31 29 33]\n",
            "\n",
            "Weekly Averages:\n",
            "Week 1: 26.71\n",
            "Week 2: 26.14\n",
            "Week 3: 24.86\n",
            "Week 4: 26.57\n",
            "Week 5: 31.00\n"
          ]
        }
      ]
    }
  ]
}